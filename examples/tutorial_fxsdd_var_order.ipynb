{
 "cells": [
  {
   "cell_type": "markdown",
   "source": [
    "# Tutorial on Variable Ordering in FXSDD(BR)\n",
    "\n",
    "The aim of this brief tutorial is to provide some insights into how the FXSDD(BR) solver represents and evaluates WMI problems, and to show the importance of variable ordering.\n",
    "This work originates from the UAI2020 paper by Derkinderen et al. [Ordering Variables for Weighted Model Integration](https://lirias.kuleuven.be/3060810?limo=0).\n",
    "\n",
    "\n",
    "If you are simply interested in changing the variable ordering heuristic: go to the last 'section'.\n",
    "\n",
    "Before we get started, we need some imports and helper functions..."
   ],
   "metadata": {
    "collapsed": false,
    "pycharm": {
     "name": "#%% md\n"
    }
   }
  },
  {
   "cell_type": "code",
   "execution_count": 11,
   "outputs": [],
   "source": [
    "import graphviz\n",
    "from pywmi import Domain, Density, PyXaddAlgebra\n",
    "from pywmi.engines.pyxadd.engine import ToXaddWalker\n",
    "from pywmi.engines.pyxadd.operation import Multiplication\n",
    "from pywmi.engines.xsdd.draw import sdd_to_dot\n",
    "from pywmi.engines.xsdd.smt_to_sdd import compile_to_sdd\n",
    "from pywmi.engines.xsdd.literals import extract_and_replace_literals\n",
    "from pywmi.engines.xsdd.vtrees.vtree import bami, balanced, leftlinear, rightlinear\n",
    "from pywmi.engines.xsdd import FactorizedXsddEngine as FXSDD\n",
    "import pysmt.shortcuts as smt\n",
    "\n",
    "\n",
    "def get_support_sdd(logic_support, literals, vtree_strategy=bami):\n",
    "    vtree = vtree_strategy(literals)\n",
    "    support_sdd = compile_to_sdd(logic_support, literals, vtree)\n",
    "    return support_sdd\n",
    "\n",
    "\n",
    "def view_support_sdd(support, vtree_strategy=bami):\n",
    "    repl_env, logic_support, literals = extract_and_replace_literals(support)\n",
    "    support_sdd = get_support_sdd(logic_support, literals, vtree_strategy)\n",
    "    support_dot = sdd_to_dot(support_sdd, literals, draw_false=False, draw_single_or=False)\n",
    "    graphviz.Source(support_dot).render(view=True)\n",
    "\n",
    "\n",
    "def get_literal_obj(support):\n",
    "    # This is how the FXSDD(BR) solver would create it.\n",
    "    # Warning: FXDD(BR) solver considers a problem several pieces.\n",
    "    # Such problems would have multiple calls, creating multiple literal objects.\n",
    "    repl_env, logic_support, literals = extract_and_replace_literals(support)\n",
    "    return literals\n",
    "\n",
    "\n",
    "def integrate_one_var(problem, first_var):\n",
    "    algebra = PyXaddAlgebra(reduce_strategy=PyXaddAlgebra.FULL_REDUCE)\n",
    "    # Construct Theory in XADD format\n",
    "    theory_xadd = ToXaddWalker(True, algebra.pool).walk_smt(problem.support)\n",
    "    weight_xadd = ToXaddWalker(False, algebra.pool).walk_smt(problem.weight)\n",
    "    combined = algebra.pool.apply(Multiplication, theory_xadd, weight_xadd)\n",
    "    # Integrate out variable\n",
    "    result = algebra.integrate(problem.domain, combined, [first_var])\n",
    "    # Show results\n",
    "    xadd = algebra.pool.diagram(result)\n",
    "    xadd.show(True)"
   ],
   "metadata": {
    "collapsed": false,
    "pycharm": {
     "name": "#%%\n"
    }
   }
  },
  {
   "cell_type": "markdown",
   "source": [
    "## FXSDD(BR)\n",
    "\n",
    "The FXSDD(BR) solver uses (multiple) Sentential Decision Diagrams (SDD) to represent the problem's support. Consider the following problem:"
   ],
   "metadata": {
    "collapsed": false,
    "pycharm": {
     "name": "#%% md\n"
    }
   }
  },
  {
   "cell_type": "code",
   "execution_count": 8,
   "outputs": [
    {
     "name": "stdout",
     "output_type": "stream",
     "text": [
      "Domain: (x0[0, 1], x1[0, 1], x2[0, 1], x3[0, 1])\n",
      "Support: (((x0 <= x1) & (x0 <= x2)) & (x0 <= x3))\n",
      "Weight: 1.0\n"
     ]
    }
   ],
   "source": [
    "n = 4\n",
    "domain = Domain.make([], [f\"x{i}\" for i in range(n)], real_bounds=(0, 1))\n",
    "x = domain.get_symbols()\n",
    "support = (x[0] <= x[1]) & (x[0] <= x[2]) & (x[0] <= x[3])\n",
    "weight = smt.Real(1)\n",
    "problem = Density(domain, support & domain.get_bounds(), weight)\n",
    "print(f\"Domain: {domain}\")\n",
    "print(f\"Support: {support}\")\n",
    "print(f\"Weight: {weight}\")"
   ],
   "metadata": {
    "collapsed": false,
    "pycharm": {
     "name": "#%%\n"
    }
   }
  },
  {
   "cell_type": "markdown",
   "source": [
    "The support of this problem could be represented using SDDs as seen below, where AND- and OR-nodes represent product and sum-operations respectively. For those familiar with visualizing SDDs, we ommitted all nodes evaluating to false as well as all OR-nodes with a single-child."
   ],
   "metadata": {
    "collapsed": false,
    "pycharm": {
     "name": "#%% md\n"
    }
   }
  },
  {
   "cell_type": "code",
   "execution_count": 12,
   "outputs": [],
   "source": [
    "view_support_sdd(problem.support, vtree_strategy=bami)"
   ],
   "metadata": {
    "collapsed": false,
    "pycharm": {
     "name": "#%%\n"
    }
   }
  },
  {
   "cell_type": "markdown",
   "source": [
    "FXSDD(BR) computes the volume by evaluating this equation (SDD structure) bottom-up, intermediately integrating out continuous variables.\n",
    "Concerning the integration, FXSDD(BR) pushes them as close to the leafs as possible to obtain smaller intermediate results (that could be reused by a caching mechanism).\n",
    "This is possible because integration can be pushed through AND-nodes if the continuous variable is only present in one branch, and can always be pushed through OR-nodes.\n",
    "In our previous example, x1, x2 and x3 can all be pushed further below the top AND-node.\n",
    "\n",
    "\n",
    "## Ordering importance\n",
    "\n",
    "The extend in which the integration of continuous variables can be pushed lower into the structure impacts\n",
    "the size of the intermediate results which in their turn influence the size of future operations and\n",
    "hence the performance of the FXSDD(BR) solver.\n",
    "This means that ideally, the SDD is structured such that AND-node branches share as few continuous variables as possible.\n",
    "\n",
    "Another aspect that influences the size of intermediate results and hence the performance is the order of integration.\n",
    "Consider our previous problem statement. First integrating out x0 would result in an intermediate result much larger than when we first integrate out other variables such as x1."
   ],
   "metadata": {
    "collapsed": false,
    "pycharm": {
     "name": "#%% md\n"
    }
   }
  },
  {
   "cell_type": "code",
   "execution_count": 13,
   "outputs": [
    {
     "ename": "InstallError",
     "evalue": "PsiPolynomialAlgebra requires the psi library to be installed",
     "output_type": "error",
     "traceback": [
      "\u001B[0;31m---------------------------------------------------------------------------\u001B[0m",
      "\u001B[0;31mInstallError\u001B[0m                              Traceback (most recent call last)",
      "\u001B[0;32m<ipython-input-13-b9710cee8552>\u001B[0m in \u001B[0;36m<module>\u001B[0;34m\u001B[0m\n\u001B[0;32m----> 1\u001B[0;31m \u001B[0mintegrate_one_var\u001B[0m\u001B[0;34m(\u001B[0m\u001B[0mproblem\u001B[0m\u001B[0;34m,\u001B[0m \u001B[0mfirst_var\u001B[0m\u001B[0;34m=\u001B[0m\u001B[0;34m'x0'\u001B[0m\u001B[0;34m)\u001B[0m\u001B[0;34m\u001B[0m\u001B[0;34m\u001B[0m\u001B[0m\n\u001B[0m\u001B[1;32m      2\u001B[0m \u001B[0;34m\u001B[0m\u001B[0m\n",
      "\u001B[0;32m<ipython-input-11-95e627a762ba>\u001B[0m in \u001B[0;36mintegrate_one_var\u001B[0;34m(problem, first_var)\u001B[0m\n\u001B[1;32m     33\u001B[0m \u001B[0;34m\u001B[0m\u001B[0m\n\u001B[1;32m     34\u001B[0m \u001B[0;32mdef\u001B[0m \u001B[0mintegrate_one_var\u001B[0m\u001B[0;34m(\u001B[0m\u001B[0mproblem\u001B[0m\u001B[0;34m,\u001B[0m \u001B[0mfirst_var\u001B[0m\u001B[0;34m)\u001B[0m\u001B[0;34m:\u001B[0m\u001B[0;34m\u001B[0m\u001B[0;34m\u001B[0m\u001B[0m\n\u001B[0;32m---> 35\u001B[0;31m     \u001B[0malgebra\u001B[0m \u001B[0;34m=\u001B[0m \u001B[0mPyXaddAlgebra\u001B[0m\u001B[0;34m(\u001B[0m\u001B[0mreduce_strategy\u001B[0m\u001B[0;34m=\u001B[0m\u001B[0mPyXaddAlgebra\u001B[0m\u001B[0;34m.\u001B[0m\u001B[0mFULL_REDUCE\u001B[0m\u001B[0;34m)\u001B[0m\u001B[0;34m\u001B[0m\u001B[0;34m\u001B[0m\u001B[0m\n\u001B[0m\u001B[1;32m     36\u001B[0m     \u001B[0;31m# Construct Theory in XADD format\u001B[0m\u001B[0;34m\u001B[0m\u001B[0;34m\u001B[0m\u001B[0;34m\u001B[0m\u001B[0m\n\u001B[1;32m     37\u001B[0m     \u001B[0mtheory_xadd\u001B[0m \u001B[0;34m=\u001B[0m \u001B[0mToXaddWalker\u001B[0m\u001B[0;34m(\u001B[0m\u001B[0;32mTrue\u001B[0m\u001B[0;34m,\u001B[0m \u001B[0malgebra\u001B[0m\u001B[0;34m.\u001B[0m\u001B[0mpool\u001B[0m\u001B[0;34m)\u001B[0m\u001B[0;34m.\u001B[0m\u001B[0mwalk_smt\u001B[0m\u001B[0;34m(\u001B[0m\u001B[0mproblem\u001B[0m\u001B[0;34m.\u001B[0m\u001B[0msupport\u001B[0m\u001B[0;34m)\u001B[0m\u001B[0;34m\u001B[0m\u001B[0;34m\u001B[0m\u001B[0m\n",
      "\u001B[0;32m~/Git/pywmi/pywmi/engines/pyxadd/algebra.py\u001B[0m in \u001B[0;36m__init__\u001B[0;34m(self, pool, symbolic_backend, reduce_strategy)\u001B[0m\n\u001B[1;32m     20\u001B[0m \u001B[0;34m\u001B[0m\u001B[0m\n\u001B[1;32m     21\u001B[0m     \u001B[0;32mdef\u001B[0m \u001B[0m__init__\u001B[0m\u001B[0;34m(\u001B[0m\u001B[0mself\u001B[0m\u001B[0;34m,\u001B[0m \u001B[0mpool\u001B[0m\u001B[0;34m=\u001B[0m\u001B[0;32mNone\u001B[0m\u001B[0;34m,\u001B[0m \u001B[0msymbolic_backend\u001B[0m\u001B[0;34m=\u001B[0m\u001B[0;32mNone\u001B[0m\u001B[0;34m,\u001B[0m \u001B[0mreduce_strategy\u001B[0m\u001B[0;34m=\u001B[0m\u001B[0;32mNone\u001B[0m\u001B[0;34m)\u001B[0m\u001B[0;34m:\u001B[0m\u001B[0;34m\u001B[0m\u001B[0;34m\u001B[0m\u001B[0m\n\u001B[0;32m---> 22\u001B[0;31m         \u001B[0mself\u001B[0m\u001B[0;34m.\u001B[0m\u001B[0msymbolic_backend\u001B[0m \u001B[0;34m=\u001B[0m \u001B[0msymbolic_backend\u001B[0m \u001B[0;32mor\u001B[0m \u001B[0mPsiPolynomialAlgebra\u001B[0m\u001B[0;34m(\u001B[0m\u001B[0;34m)\u001B[0m\u001B[0;34m\u001B[0m\u001B[0;34m\u001B[0m\u001B[0m\n\u001B[0m\u001B[1;32m     23\u001B[0m         \u001B[0mself\u001B[0m\u001B[0;34m.\u001B[0m\u001B[0mpool\u001B[0m \u001B[0;34m=\u001B[0m \u001B[0mpool\u001B[0m \u001B[0;32mor\u001B[0m \u001B[0mPool\u001B[0m\u001B[0;34m(\u001B[0m\u001B[0malgebra\u001B[0m\u001B[0;34m=\u001B[0m\u001B[0mself\u001B[0m\u001B[0;34m.\u001B[0m\u001B[0msymbolic_backend\u001B[0m\u001B[0;34m)\u001B[0m\u001B[0;34m\u001B[0m\u001B[0;34m\u001B[0m\u001B[0m\n\u001B[1;32m     24\u001B[0m         \u001B[0mself\u001B[0m\u001B[0;34m.\u001B[0m\u001B[0mreduce_strategy\u001B[0m \u001B[0;34m=\u001B[0m \u001B[0mreduce_strategy\u001B[0m \u001B[0;32mor\u001B[0m \u001B[0mself\u001B[0m\u001B[0;34m.\u001B[0m\u001B[0mFULL_REDUCE\u001B[0m\u001B[0;34m\u001B[0m\u001B[0;34m\u001B[0m\u001B[0m\n",
      "\u001B[0;32m~/Git/pywmi/pywmi/engines/algebraic_backend.py\u001B[0m in \u001B[0;36m__init__\u001B[0;34m(self)\u001B[0m\n\u001B[1;32m    250\u001B[0m         \u001B[0;32mif\u001B[0m \u001B[0mpsi\u001B[0m \u001B[0;32mis\u001B[0m \u001B[0;32mNone\u001B[0m\u001B[0;34m:\u001B[0m\u001B[0;34m\u001B[0m\u001B[0;34m\u001B[0m\u001B[0m\n\u001B[1;32m    251\u001B[0m             raise InstallError(\n\u001B[0;32m--> 252\u001B[0;31m                 \u001B[0;34m\"PsiPolynomialAlgebra requires the psi library to be installed\"\u001B[0m\u001B[0;34m\u001B[0m\u001B[0;34m\u001B[0m\u001B[0m\n\u001B[0m\u001B[1;32m    253\u001B[0m             )\n\u001B[1;32m    254\u001B[0m         \u001B[0mself\u001B[0m\u001B[0;34m.\u001B[0m\u001B[0m_eval_bounds_cache\u001B[0m \u001B[0;34m=\u001B[0m \u001B[0mpsi\u001B[0m\u001B[0;34m.\u001B[0m\u001B[0mEvalBoundsCache\u001B[0m\u001B[0;34m(\u001B[0m\u001B[0;34m)\u001B[0m\u001B[0;34m\u001B[0m\u001B[0;34m\u001B[0m\u001B[0m\n",
      "\u001B[0;31mInstallError\u001B[0m: PsiPolynomialAlgebra requires the psi library to be installed"
     ]
    }
   ],
   "source": [
    "integrate_one_var(problem, first_var='x0')"
   ],
   "metadata": {
    "collapsed": false,
    "pycharm": {
     "name": "#%%\n"
    }
   }
  },
  {
   "cell_type": "code",
   "execution_count": null,
   "outputs": [],
   "source": [
    "integrate_one_var(problem, first_var='x1')"
   ],
   "metadata": {
    "collapsed": false,
    "pycharm": {
     "name": "#%%\n"
    }
   }
  },
  {
   "cell_type": "markdown",
   "source": [
    "The reason that first integrating out x1 results in a smaller intermediate result compared to first integrating out x0 has to do with the interactions of the variables.\n",
    "When you look at the initial problem statement, you might notice that x0 occurs in inequalities with all other continuous variables\n",
    "while the other continuous variables only co-occur with x0. By integrating out x0, we create connections between all the other variables.\n",
    "\n",
    "So ideally, the structure of an SDD allows for the integration to be pushed deep into the structure, and allows for an integration order that yields small intermediate results.\n",
    "\n",
    "## FXSDD(BR) + custom variable ordering heuristics\n",
    "\n",
    "The following code uses the FXSDD(BR) solver to compute the volume of our problem.\n",
    "Notice the vtree_strategy parameter of the FXSDD constructor. Heuristics originating from the SDD package are balanced, leftlinear and rightlinear.\n",
    "The bami heuristic used in the code below is an heuristic introduced by Derkinderen et al. in UAI2020, '[Ordering Variables for Weighted Model Integration](https://lirias.kuleuven.be/3060810?limo=0)'.\n",
    "In contrast to the three previous heuristic, Bami analyses the problem, more specifically the continuous variable interactions, to obtain a better vtree and hence SDD."
   ],
   "metadata": {
    "collapsed": false,
    "pycharm": {
     "name": "#%% md\n"
    }
   }
  },
  {
   "cell_type": "code",
   "execution_count": null,
   "outputs": [],
   "source": [
    "algebra = PyXaddAlgebra(reduce_strategy=PyXaddAlgebra.FULL_REDUCE)\n",
    "mfxsdd = FXSDD(\n",
    "    problem.domain,\n",
    "    problem.support,\n",
    "    problem.weight,\n",
    "    vtree_strategy=bami,\n",
    "    #vtree_strategy=balanced,\n",
    "    #vtree_strategy=leftlinear,\n",
    "    #vtree_strategy=rightlinear,\n",
    "    algebra=algebra,\n",
    "    ordered=False,\n",
    ")\n",
    "volume = mfxsdd.compute_volume(add_bounds=False)\n",
    "print(volume)"
   ],
   "metadata": {
    "collapsed": false,
    "pycharm": {
     "name": "#%%\n"
    }
   }
  },
  {
   "cell_type": "markdown",
   "source": [
    "To try out your own heuristic, simply create a new method and pass it instead of bami.\n",
    "This heuristic method must take as input a LiteralInfo object and return an appropriate Vtree."
   ],
   "metadata": {
    "collapsed": false,
    "pycharm": {
     "name": "#%% md\n"
    }
   }
  },
  {
   "cell_type": "code",
   "execution_count": null,
   "outputs": [],
   "source": [
    "literal_info = get_literal_obj(problem.support)\n",
    "vtree = bami(literal_info)\n",
    "for lit_item in literal_info.literals.items():\n",
    "    print(lit_item)\n",
    "graphviz.Source(vtree.to_dot()).render(view=True)"
   ],
   "metadata": {
    "collapsed": false,
    "pycharm": {
     "name": "#%%\n"
    }
   }
  }
 ],
 "metadata": {
  "kernelspec": {
   "display_name": "Python 3",
   "language": "python",
   "name": "python3"
  },
  "language_info": {
   "codemirror_mode": {
    "name": "ipython",
    "version": 2
   },
   "file_extension": ".py",
   "mimetype": "text/x-python",
   "name": "python",
   "nbconvert_exporter": "python",
   "pygments_lexer": "ipython2",
   "version": "2.7.6"
  }
 },
 "nbformat": 4,
 "nbformat_minor": 0
}